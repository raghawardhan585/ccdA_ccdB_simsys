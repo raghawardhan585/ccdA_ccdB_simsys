{
 "cells": [
  {
   "cell_type": "code",
   "execution_count": 12,
   "metadata": {},
   "outputs": [
    {
     "data": {
      "text/html": [
       "\n",
       "        <iframe\n",
       "            width=\"500px\"\n",
       "            height=\"500px\"\n",
       "            src=\"example.html\"\n",
       "            frameborder=\"0\"\n",
       "            allowfullscreen\n",
       "        ></iframe>\n",
       "        "
      ],
      "text/plain": [
       "<IPython.lib.display.IFrame at 0x7fee20f50048>"
      ]
     },
     "execution_count": 12,
     "metadata": {},
     "output_type": "execute_result"
    }
   ],
   "source": [
    "from pyvis.network import Network\n",
    "import networkx as nx\n",
    "import numpy as np\n",
    "import pandas as pd\n",
    "\n",
    "np_G = np.zeros((12,12))\n",
    "ls_edges = [ [1,3] , [2,3] ,[2,4] ,[2,6] ,[3,4] ,[3,5] ,[3,7] ,[4,6] ,[4,7] ,[5,6] ,[7,8] ,[7,9] ,[7,10] ,[7,11] ,[8,12] ,[11,12]]\n",
    "for edge_i in ls_edges:\n",
    "    np_G[edge_i[0]-1, edge_i[1]-1]=1\n",
    "    np_G[edge_i[1] - 1, edge_i[0] - 1] = 1\n",
    "ls_nodes = ['$x_{' + str(i) + '}$' for i in range(1,12)]\n",
    "ls_nodes.append('y')\n",
    "df_G = pd.DataFrame(np_G, columns=ls_nodes, index= ls_nodes)\n",
    "\n",
    "G = nx.from_pandas_adjacency(df_G)\n",
    "net = Network(notebook=True)\n",
    "net.from_nx(G)\n",
    "net.show(\"example.html\")"
   ]
  }
 ],
 "metadata": {
  "kernelspec": {
   "display_name": "Python 3",
   "language": "python",
   "name": "python3"
  },
  "language_info": {
   "codemirror_mode": {
    "name": "ipython",
    "version": 3
   },
   "file_extension": ".py",
   "mimetype": "text/x-python",
   "name": "python",
   "nbconvert_exporter": "python",
   "pygments_lexer": "ipython3",
   "version": "3.7.3"
  }
 },
 "nbformat": 4,
 "nbformat_minor": 4
}
